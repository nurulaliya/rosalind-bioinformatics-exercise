{
 "cells": [
  {
   "cell_type": "code",
   "execution_count": 14,
   "metadata": {},
   "outputs": [
    {
     "name": "stdout",
     "output_type": "stream",
     "text": [
      "1560836\n"
     ]
    }
   ],
   "source": [
    "#INI2-Variables and Some Arithmetic\n",
    "print(856**2+910**2)\n"
   ]
  },
  {
   "cell_type": "code",
   "execution_count": 15,
   "metadata": {},
   "outputs": [
    {
     "name": "stdout",
     "output_type": "stream",
     "text": [
      "Leptobrachium hardwickii\n"
     ]
    }
   ],
   "source": [
    "#INI3-Strings and Lists\n",
    "s = 'VYt2LpBRbeaznbEBqsvczLeptobrachium8IdndA5eC2rsmZr5hardwickiizTs0b53xpLecjR9nvrhSInERVp2YV0F17xPUuBcGysfVJeh1rhcOYoBD1DnNhFOYFIWiNigpFvzgd1M2ZAwnsTR1psZ9T443DNQr7rGcJSdtaS40B5hxGn82SLPo1YWnqvGWFFJr8'\n",
    "print (s[21:33+1] + ' ' + s[50:59+1])"
   ]
  },
  {
   "cell_type": "code",
   "execution_count": 9,
   "metadata": {},
   "outputs": [
    {
     "name": "stdout",
     "output_type": "stream",
     "text": [
      "101\n",
      "204\n",
      "309\n",
      "416\n",
      "525\n",
      "636\n",
      "749\n",
      "864\n",
      "981\n",
      "1100\n",
      "1221\n",
      "1344\n",
      "1469\n",
      "1596\n",
      "1725\n",
      "1856\n",
      "1989\n",
      "2124\n",
      "2261\n",
      "2400\n",
      "2541\n",
      "2684\n",
      "2829\n",
      "2976\n",
      "3125\n",
      "3276\n",
      "3429\n",
      "3584\n",
      "3741\n",
      "3900\n",
      "4061\n",
      "4224\n",
      "4389\n",
      "4556\n",
      "4725\n",
      "4896\n",
      "5069\n",
      "5244\n",
      "5421\n",
      "5600\n",
      "5781\n",
      "5964\n",
      "6149\n",
      "6336\n",
      "6525\n",
      "6716\n",
      "6909\n",
      "7104\n",
      "7301\n",
      "7500\n"
     ]
    }
   ],
   "source": [
    "#INI4-Conditions and Loops\n",
    "a = 100\n",
    "b = 200\n",
    "c = 0\n",
    "\n",
    "for i in range(a, b):\n",
    "    if i % 2 == 1:\n",
    "        c += i\n",
    "        print(c)"
   ]
  },
  {
   "cell_type": "code",
   "execution_count": 10,
   "metadata": {},
   "outputs": [
    {
     "name": "stdout",
     "output_type": "stream",
     "text": [
      "Yes, brave Sir Robin turned about\n",
      "\n",
      "And gallantly he chickened out\n",
      "\n",
      "Bravely talking to his feet\n",
      "\n",
      "He beat a very brave retreat\n"
     ]
    }
   ],
   "source": [
    "#INI5-Working with Files\n",
    "f = open('rosalind_ini4.txt','r')\n",
    "for line in f.readlines():\n",
    "    if i % 2 == 0 :\n",
    "        print (line)\n",
    "    i += 1"
   ]
  },
  {
   "cell_type": "code",
   "execution_count": 16,
   "metadata": {},
   "outputs": [
    {
     "name": "stdout",
     "output_type": "stream",
     "text": [
      "When 1\n",
      "I 2\n",
      "find 1\n",
      "myself 1\n",
      "in 4\n",
      "times 1\n",
      "of 11\n",
      "trouble 1\n",
      "Mother 2\n",
      "Mary 2\n",
      "comes 2\n",
      "to 3\n",
      "me 4\n",
      "Speaking 3\n",
      "words 7\n",
      "wisdom 7\n",
      "let 30\n",
      "it 36\n",
      "be 41\n",
      "And 3\n",
      "my 1\n",
      "hour 1\n",
      "darkness 1\n",
      "she 1\n",
      "is 4\n",
      "standing 1\n",
      "right 1\n",
      "front 1\n",
      "Let 6\n",
      "Whisper 4\n",
      "when 2\n",
      "the 4\n",
      "broken 1\n",
      "hearted 1\n",
      "people 1\n",
      "living 1\n",
      "world 1\n",
      "agree 1\n",
      "There 4\n",
      "will 5\n",
      "an 4\n",
      "answer 4\n",
      "For 1\n",
      "though 1\n",
      "they 2\n",
      "may 1\n",
      "parted 1\n",
      "there 2\n",
      "still 2\n",
      "a 2\n",
      "chance 1\n",
      "that 2\n",
      "see 1\n",
      "night 1\n",
      "cloudy 1\n",
      "light 1\n",
      "shines 1\n",
      "on 1\n",
      "Shine 1\n",
      "until 1\n",
      "tomorrow 1\n",
      "wake 1\n",
      "up 1\n",
      "sound 1\n",
      "music 1\n",
      "yeah 2\n"
     ]
    }
   ],
   "source": [
    "#INI6-Dictionaries\n",
    "s = \"When I find myself in times of trouble Mother Mary comes to me Speaking words of wisdom let it be And in my hour of darkness she is standing right in front of me Speaking words of wisdom let it be Let it be let it be let it be let it be Whisper words of wisdom let it be And when the broken hearted people living in the world agree There will be an answer let it be For though they may be parted there is still a chance that they will see There will be an answer let it be Let it be let it be let it be let it be There will be an answer let it be Let it be let it be let it be let it be Whisper words of wisdom let it be Let it be let it be let it be let it be Whisper words of wisdom let it be And when the night is cloudy there is still a light that shines on me Shine until tomorrow let it be I wake up to the sound of music Mother Mary comes to me Speaking words of wisdom let it be Let it be let it be let it be yeah let it be There will be an answer let it be Let it be let it be let it be yeah let it be Whisper words of wisdom let it be\"\n",
    "arr = s.split(\" \")\n",
    "dict = {}\n",
    "for word in arr:\n",
    "    if word in dict:\n",
    "        dict[word] += 1\n",
    "    else:\n",
    "        dict[word] = 1\n",
    "for word in dict:\n",
    "    print (word + \" \" + str(dict[word]))"
   ]
  },
  {
   "cell_type": "code",
   "execution_count": null,
   "metadata": {},
   "outputs": [],
   "source": []
  }
 ],
 "metadata": {
  "kernelspec": {
   "display_name": "Python 3",
   "language": "python",
   "name": "python3"
  },
  "language_info": {
   "codemirror_mode": {
    "name": "ipython",
    "version": 3
   },
   "file_extension": ".py",
   "mimetype": "text/x-python",
   "name": "python",
   "nbconvert_exporter": "python",
   "pygments_lexer": "ipython3",
   "version": "3.6.4"
  }
 },
 "nbformat": 4,
 "nbformat_minor": 2
}
